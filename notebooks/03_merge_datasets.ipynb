{
 "cells": [
  {
   "cell_type": "markdown",
   "metadata": {},
   "source": [
    "# Merge Market Price & Sentiment Datasets\n"
   ]
  },
  {
   "cell_type": "markdown",
   "metadata": {},
   "source": [
    "* Merge the spy price dataset, and the daily sentiment dataset.\n",
    "* Split into training & testing datasets.\n",
    "* Training dataset is for training and hyperparameter tuning in cross validation.\n",
    "* Testing dataset is an internal test set to compare performances of different models."
   ]
  },
  {
   "cell_type": "code",
   "execution_count": 3,
   "metadata": {},
   "outputs": [],
   "source": [
    "import pandas as pd"
   ]
  },
  {
   "cell_type": "markdown",
   "metadata": {},
   "source": [
    "## Merge SPY Price Dataset and Daily Sentiment Dataset"
   ]
  },
  {
   "cell_type": "code",
   "execution_count": 4,
   "metadata": {},
   "outputs": [
    {
     "data": {
      "text/html": [
       "<div>\n",
       "<style scoped>\n",
       "    .dataframe tbody tr th:only-of-type {\n",
       "        vertical-align: middle;\n",
       "    }\n",
       "\n",
       "    .dataframe tbody tr th {\n",
       "        vertical-align: top;\n",
       "    }\n",
       "\n",
       "    .dataframe thead th {\n",
       "        text-align: right;\n",
       "    }\n",
       "</style>\n",
       "<table border=\"1\" class=\"dataframe\">\n",
       "  <thead>\n",
       "    <tr style=\"text-align: right;\">\n",
       "      <th></th>\n",
       "      <th>date</th>\n",
       "      <th>spy_close</th>\n",
       "      <th>spy_return</th>\n",
       "      <th>spy_direction</th>\n",
       "    </tr>\n",
       "  </thead>\n",
       "  <tbody>\n",
       "    <tr>\n",
       "      <th>0</th>\n",
       "      <td>2018-03-02</td>\n",
       "      <td>239.550018</td>\n",
       "      <td>0.005155</td>\n",
       "      <td>1</td>\n",
       "    </tr>\n",
       "    <tr>\n",
       "      <th>1</th>\n",
       "      <td>2018-03-05</td>\n",
       "      <td>242.318726</td>\n",
       "      <td>0.011558</td>\n",
       "      <td>1</td>\n",
       "    </tr>\n",
       "    <tr>\n",
       "      <th>2</th>\n",
       "      <td>2018-03-06</td>\n",
       "      <td>242.932983</td>\n",
       "      <td>0.002535</td>\n",
       "      <td>0</td>\n",
       "    </tr>\n",
       "    <tr>\n",
       "      <th>3</th>\n",
       "      <td>2018-03-07</td>\n",
       "      <td>242.843948</td>\n",
       "      <td>-0.000367</td>\n",
       "      <td>1</td>\n",
       "    </tr>\n",
       "    <tr>\n",
       "      <th>4</th>\n",
       "      <td>2018-03-08</td>\n",
       "      <td>244.019043</td>\n",
       "      <td>0.004839</td>\n",
       "      <td>1</td>\n",
       "    </tr>\n",
       "  </tbody>\n",
       "</table>\n",
       "</div>"
      ],
      "text/plain": [
       "        date   spy_close  spy_return  spy_direction\n",
       "0 2018-03-02  239.550018    0.005155              1\n",
       "1 2018-03-05  242.318726    0.011558              1\n",
       "2 2018-03-06  242.932983    0.002535              0\n",
       "3 2018-03-07  242.843948   -0.000367              1\n",
       "4 2018-03-08  244.019043    0.004839              1"
      ]
     },
     "execution_count": 4,
     "metadata": {},
     "output_type": "execute_result"
    }
   ],
   "source": [
    "# Load SPY price data\n",
    "spy = pd.read_csv('../data/cleaned_spy_price.csv')\n",
    "spy['date'] = pd.to_datetime(spy['date'])\n",
    "\n",
    "spy.head()"
   ]
  },
  {
   "cell_type": "code",
   "execution_count": 6,
   "metadata": {},
   "outputs": [
    {
     "data": {
      "text/html": [
       "<div>\n",
       "<style scoped>\n",
       "    .dataframe tbody tr th:only-of-type {\n",
       "        vertical-align: middle;\n",
       "    }\n",
       "\n",
       "    .dataframe tbody tr th {\n",
       "        vertical-align: top;\n",
       "    }\n",
       "\n",
       "    .dataframe thead th {\n",
       "        text-align: right;\n",
       "    }\n",
       "</style>\n",
       "<table border=\"1\" class=\"dataframe\">\n",
       "  <thead>\n",
       "    <tr style=\"text-align: right;\">\n",
       "      <th></th>\n",
       "      <th>date</th>\n",
       "      <th>daily_sentiment_score</th>\n",
       "      <th>daily_sentiment_label</th>\n",
       "      <th>headline_count</th>\n",
       "    </tr>\n",
       "  </thead>\n",
       "  <tbody>\n",
       "    <tr>\n",
       "      <th>0</th>\n",
       "      <td>2018-03-01</td>\n",
       "      <td>-0.083457</td>\n",
       "      <td>negative</td>\n",
       "      <td>7</td>\n",
       "    </tr>\n",
       "    <tr>\n",
       "      <th>1</th>\n",
       "      <td>2018-03-02</td>\n",
       "      <td>-0.099900</td>\n",
       "      <td>negative</td>\n",
       "      <td>6</td>\n",
       "    </tr>\n",
       "    <tr>\n",
       "      <th>2</th>\n",
       "      <td>2018-03-05</td>\n",
       "      <td>-0.110300</td>\n",
       "      <td>positive</td>\n",
       "      <td>6</td>\n",
       "    </tr>\n",
       "    <tr>\n",
       "      <th>3</th>\n",
       "      <td>2018-03-06</td>\n",
       "      <td>0.227525</td>\n",
       "      <td>positive</td>\n",
       "      <td>4</td>\n",
       "    </tr>\n",
       "    <tr>\n",
       "      <th>4</th>\n",
       "      <td>2018-03-07</td>\n",
       "      <td>-0.125275</td>\n",
       "      <td>negative</td>\n",
       "      <td>8</td>\n",
       "    </tr>\n",
       "  </tbody>\n",
       "</table>\n",
       "</div>"
      ],
      "text/plain": [
       "        date  daily_sentiment_score daily_sentiment_label  headline_count\n",
       "0 2018-03-01              -0.083457              negative               7\n",
       "1 2018-03-02              -0.099900              negative               6\n",
       "2 2018-03-05              -0.110300              positive               6\n",
       "3 2018-03-06               0.227525              positive               4\n",
       "4 2018-03-07              -0.125275              negative               8"
      ]
     },
     "execution_count": 6,
     "metadata": {},
     "output_type": "execute_result"
    }
   ],
   "source": [
    "# Load sentiment data (e.g., from VADER or any sentiment extraction)\n",
    "sentiment = pd.read_csv('../data/daily_sentiment_vader.csv')\n",
    "sentiment['date'] = pd.to_datetime(sentiment['date'])\n",
    "\n",
    "sentiment.head()\n"
   ]
  },
  {
   "cell_type": "code",
   "execution_count": 7,
   "metadata": {},
   "outputs": [
    {
     "data": {
      "text/html": [
       "<div>\n",
       "<style scoped>\n",
       "    .dataframe tbody tr th:only-of-type {\n",
       "        vertical-align: middle;\n",
       "    }\n",
       "\n",
       "    .dataframe tbody tr th {\n",
       "        vertical-align: top;\n",
       "    }\n",
       "\n",
       "    .dataframe thead th {\n",
       "        text-align: right;\n",
       "    }\n",
       "</style>\n",
       "<table border=\"1\" class=\"dataframe\">\n",
       "  <thead>\n",
       "    <tr style=\"text-align: right;\">\n",
       "      <th></th>\n",
       "      <th>date</th>\n",
       "      <th>spy_close</th>\n",
       "      <th>spy_return</th>\n",
       "      <th>spy_direction</th>\n",
       "      <th>daily_sentiment_score</th>\n",
       "      <th>daily_sentiment_label</th>\n",
       "      <th>headline_count</th>\n",
       "    </tr>\n",
       "  </thead>\n",
       "  <tbody>\n",
       "    <tr>\n",
       "      <th>0</th>\n",
       "      <td>2018-03-02</td>\n",
       "      <td>239.550018</td>\n",
       "      <td>0.005155</td>\n",
       "      <td>1</td>\n",
       "      <td>-0.099900</td>\n",
       "      <td>negative</td>\n",
       "      <td>6</td>\n",
       "    </tr>\n",
       "    <tr>\n",
       "      <th>1</th>\n",
       "      <td>2018-03-05</td>\n",
       "      <td>242.318726</td>\n",
       "      <td>0.011558</td>\n",
       "      <td>1</td>\n",
       "      <td>-0.110300</td>\n",
       "      <td>positive</td>\n",
       "      <td>6</td>\n",
       "    </tr>\n",
       "    <tr>\n",
       "      <th>2</th>\n",
       "      <td>2018-03-06</td>\n",
       "      <td>242.932983</td>\n",
       "      <td>0.002535</td>\n",
       "      <td>0</td>\n",
       "      <td>0.227525</td>\n",
       "      <td>positive</td>\n",
       "      <td>4</td>\n",
       "    </tr>\n",
       "    <tr>\n",
       "      <th>3</th>\n",
       "      <td>2018-03-07</td>\n",
       "      <td>242.843948</td>\n",
       "      <td>-0.000367</td>\n",
       "      <td>1</td>\n",
       "      <td>-0.125275</td>\n",
       "      <td>negative</td>\n",
       "      <td>8</td>\n",
       "    </tr>\n",
       "    <tr>\n",
       "      <th>4</th>\n",
       "      <td>2018-03-08</td>\n",
       "      <td>244.019043</td>\n",
       "      <td>0.004839</td>\n",
       "      <td>1</td>\n",
       "      <td>0.037960</td>\n",
       "      <td>positive</td>\n",
       "      <td>5</td>\n",
       "    </tr>\n",
       "  </tbody>\n",
       "</table>\n",
       "</div>"
      ],
      "text/plain": [
       "        date   spy_close  spy_return  spy_direction  daily_sentiment_score  \\\n",
       "0 2018-03-02  239.550018    0.005155              1              -0.099900   \n",
       "1 2018-03-05  242.318726    0.011558              1              -0.110300   \n",
       "2 2018-03-06  242.932983    0.002535              0               0.227525   \n",
       "3 2018-03-07  242.843948   -0.000367              1              -0.125275   \n",
       "4 2018-03-08  244.019043    0.004839              1               0.037960   \n",
       "\n",
       "  daily_sentiment_label  headline_count  \n",
       "0              negative               6  \n",
       "1              positive               6  \n",
       "2              positive               4  \n",
       "3              negative               8  \n",
       "4              positive               5  "
      ]
     },
     "execution_count": 7,
     "metadata": {},
     "output_type": "execute_result"
    }
   ],
   "source": [
    "# Merge SPY and sentiment data on 'date'\n",
    "merged_data = pd.merge(spy, sentiment, on='date', how='inner')\n",
    "\n",
    "merged_data.head()"
   ]
  },
  {
   "cell_type": "markdown",
   "metadata": {},
   "source": [
    "## Split to Training/Validation Dataset & Internal Testing Dataset\n",
    "\n",
    "* Use 80% oldest data for training + cross-validation\n",
    "* And 20% newest data for internal testing"
   ]
  },
  {
   "cell_type": "code",
   "execution_count": 8,
   "metadata": {},
   "outputs": [],
   "source": [
    "# Sort by date to maintain time order\n",
    "merged_data.sort_values('date', inplace=True)\n",
    "merged_data.reset_index(drop=True, inplace=True)\n",
    "\n",
    "# Define split index\n",
    "split_index = int(len(merged_data) * 0.8)\n",
    "\n",
    "# Split datasets\n",
    "df_train = merged_data.iloc[:split_index]\n",
    "df_test = merged_data.iloc[split_index:]"
   ]
  },
  {
   "cell_type": "code",
   "execution_count": 9,
   "metadata": {},
   "outputs": [],
   "source": [
    "# Save the splits\n",
    "df_train.to_csv(\"../data/train_dataset.csv\", index=False)\n",
    "df_test.to_csv(\"../data/test_dataset.csv\", index=False)"
   ]
  },
  {
   "cell_type": "code",
   "execution_count": 10,
   "metadata": {},
   "outputs": [
    {
     "name": "stdout",
     "output_type": "stream",
     "text": [
      "Training set: 2018-03-02 00:00:00 to 2020-04-20 00:00:00 (223 rows)\n",
      "Testing set:  2020-04-21 00:00:00 to 2020-07-16 00:00:00 (56 rows)\n"
     ]
    }
   ],
   "source": [
    "print(f\"Training set: {df_train['date'].min()} to {df_train['date'].max()} ({len(df_train)} rows)\")\n",
    "print(f\"Testing set:  {df_test['date'].min()} to {df_test['date'].max()} ({len(df_test)} rows)\")"
   ]
  }
 ],
 "metadata": {
  "kernelspec": {
   "display_name": "finance_env",
   "language": "python",
   "name": "python3"
  },
  "language_info": {
   "codemirror_mode": {
    "name": "ipython",
    "version": 3
   },
   "file_extension": ".py",
   "mimetype": "text/x-python",
   "name": "python",
   "nbconvert_exporter": "python",
   "pygments_lexer": "ipython3",
   "version": "3.12.9"
  }
 },
 "nbformat": 4,
 "nbformat_minor": 2
}

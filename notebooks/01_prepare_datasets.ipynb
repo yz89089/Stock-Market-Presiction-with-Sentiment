{
 "cells": [
  {
   "cell_type": "markdown",
   "metadata": {},
   "source": [
    "# Prepare Datasets"
   ]
  },
  {
   "cell_type": "code",
   "execution_count": 1,
   "metadata": {},
   "outputs": [],
   "source": [
    "import pandas as pd\n",
    "from datetime import datetime\n",
    "import yfinance as yf"
   ]
  },
  {
   "cell_type": "markdown",
   "metadata": {},
   "source": [
    "## A. Financial Headlines Datasets"
   ]
  },
  {
   "cell_type": "markdown",
   "metadata": {},
   "source": [
    "Dataset source: [Kaggle Financial Headlines](https://www.kaggle.com/datasets/notlucasp/financial-news-headlines/data)"
   ]
  },
  {
   "cell_type": "markdown",
   "metadata": {},
   "source": [
    "### A-1: Read & Clean Dataset\n",
    "\n"
   ]
  },
  {
   "cell_type": "code",
   "execution_count": 2,
   "metadata": {},
   "outputs": [
    {
     "data": {
      "text/html": [
       "<div>\n",
       "<style scoped>\n",
       "    .dataframe tbody tr th:only-of-type {\n",
       "        vertical-align: middle;\n",
       "    }\n",
       "\n",
       "    .dataframe tbody tr th {\n",
       "        vertical-align: top;\n",
       "    }\n",
       "\n",
       "    .dataframe thead th {\n",
       "        text-align: right;\n",
       "    }\n",
       "</style>\n",
       "<table border=\"1\" class=\"dataframe\">\n",
       "  <thead>\n",
       "    <tr style=\"text-align: right;\">\n",
       "      <th></th>\n",
       "      <th>Headlines</th>\n",
       "      <th>Time</th>\n",
       "      <th>Description</th>\n",
       "    </tr>\n",
       "  </thead>\n",
       "  <tbody>\n",
       "    <tr>\n",
       "      <th>0</th>\n",
       "      <td>Jim Cramer: A better way to invest in the Covi...</td>\n",
       "      <td>7:51  PM ET Fri, 17 July 2020</td>\n",
       "      <td>\"Mad Money\" host Jim Cramer recommended buying...</td>\n",
       "    </tr>\n",
       "    <tr>\n",
       "      <th>1</th>\n",
       "      <td>Cramer's lightning round: I would own Teradyne</td>\n",
       "      <td>7:33  PM ET Fri, 17 July 2020</td>\n",
       "      <td>\"Mad Money\" host Jim Cramer rings the lightnin...</td>\n",
       "    </tr>\n",
       "    <tr>\n",
       "      <th>2</th>\n",
       "      <td>NaN</td>\n",
       "      <td>NaN</td>\n",
       "      <td>NaN</td>\n",
       "    </tr>\n",
       "    <tr>\n",
       "      <th>3</th>\n",
       "      <td>Cramer's week ahead: Big week for earnings, ev...</td>\n",
       "      <td>7:25  PM ET Fri, 17 July 2020</td>\n",
       "      <td>\"We'll pay more for the earnings of the non-Co...</td>\n",
       "    </tr>\n",
       "    <tr>\n",
       "      <th>4</th>\n",
       "      <td>IQ Capital CEO Keith Bliss says tech and healt...</td>\n",
       "      <td>4:24  PM ET Fri, 17 July 2020</td>\n",
       "      <td>Keith Bliss, IQ Capital CEO, joins \"Closing Be...</td>\n",
       "    </tr>\n",
       "  </tbody>\n",
       "</table>\n",
       "</div>"
      ],
      "text/plain": [
       "                                           Headlines  \\\n",
       "0  Jim Cramer: A better way to invest in the Covi...   \n",
       "1     Cramer's lightning round: I would own Teradyne   \n",
       "2                                                NaN   \n",
       "3  Cramer's week ahead: Big week for earnings, ev...   \n",
       "4  IQ Capital CEO Keith Bliss says tech and healt...   \n",
       "\n",
       "                             Time  \\\n",
       "0   7:51  PM ET Fri, 17 July 2020   \n",
       "1   7:33  PM ET Fri, 17 July 2020   \n",
       "2                             NaN   \n",
       "3   7:25  PM ET Fri, 17 July 2020   \n",
       "4   4:24  PM ET Fri, 17 July 2020   \n",
       "\n",
       "                                         Description  \n",
       "0  \"Mad Money\" host Jim Cramer recommended buying...  \n",
       "1  \"Mad Money\" host Jim Cramer rings the lightnin...  \n",
       "2                                                NaN  \n",
       "3  \"We'll pay more for the earnings of the non-Co...  \n",
       "4  Keith Bliss, IQ Capital CEO, joins \"Closing Be...  "
      ]
     },
     "execution_count": 2,
     "metadata": {},
     "output_type": "execute_result"
    }
   ],
   "source": [
    "# Load the dataset\n",
    "headline_df = pd.read_csv(\"../data/cnbc_headlines.csv\")\n",
    "\n",
    "headline_df.head()"
   ]
  },
  {
   "cell_type": "code",
   "execution_count": 3,
   "metadata": {},
   "outputs": [
    {
     "data": {
      "text/html": [
       "<div>\n",
       "<style scoped>\n",
       "    .dataframe tbody tr th:only-of-type {\n",
       "        vertical-align: middle;\n",
       "    }\n",
       "\n",
       "    .dataframe tbody tr th {\n",
       "        vertical-align: top;\n",
       "    }\n",
       "\n",
       "    .dataframe thead th {\n",
       "        text-align: right;\n",
       "    }\n",
       "</style>\n",
       "<table border=\"1\" class=\"dataframe\">\n",
       "  <thead>\n",
       "    <tr style=\"text-align: right;\">\n",
       "      <th></th>\n",
       "      <th>Headlines</th>\n",
       "      <th>Time</th>\n",
       "      <th>Description</th>\n",
       "      <th>Date</th>\n",
       "    </tr>\n",
       "  </thead>\n",
       "  <tbody>\n",
       "    <tr>\n",
       "      <th>0</th>\n",
       "      <td>Jim Cramer: A better way to invest in the Covi...</td>\n",
       "      <td>7:51  PM ET Fri, 17 July 2020</td>\n",
       "      <td>\"Mad Money\" host Jim Cramer recommended buying...</td>\n",
       "      <td>2020-07-17</td>\n",
       "    </tr>\n",
       "    <tr>\n",
       "      <th>1</th>\n",
       "      <td>Cramer's lightning round: I would own Teradyne</td>\n",
       "      <td>7:33  PM ET Fri, 17 July 2020</td>\n",
       "      <td>\"Mad Money\" host Jim Cramer rings the lightnin...</td>\n",
       "      <td>2020-07-17</td>\n",
       "    </tr>\n",
       "    <tr>\n",
       "      <th>3</th>\n",
       "      <td>Cramer's week ahead: Big week for earnings, ev...</td>\n",
       "      <td>7:25  PM ET Fri, 17 July 2020</td>\n",
       "      <td>\"We'll pay more for the earnings of the non-Co...</td>\n",
       "      <td>2020-07-17</td>\n",
       "    </tr>\n",
       "    <tr>\n",
       "      <th>4</th>\n",
       "      <td>IQ Capital CEO Keith Bliss says tech and healt...</td>\n",
       "      <td>4:24  PM ET Fri, 17 July 2020</td>\n",
       "      <td>Keith Bliss, IQ Capital CEO, joins \"Closing Be...</td>\n",
       "      <td>2020-07-17</td>\n",
       "    </tr>\n",
       "    <tr>\n",
       "      <th>5</th>\n",
       "      <td>Wall Street delivered the 'kind of pullback I'...</td>\n",
       "      <td>7:36  PM ET Thu, 16 July 2020</td>\n",
       "      <td>\"Look for the stocks of high-quality companies...</td>\n",
       "      <td>2020-07-16</td>\n",
       "    </tr>\n",
       "  </tbody>\n",
       "</table>\n",
       "</div>"
      ],
      "text/plain": [
       "                                           Headlines  \\\n",
       "0  Jim Cramer: A better way to invest in the Covi...   \n",
       "1     Cramer's lightning round: I would own Teradyne   \n",
       "3  Cramer's week ahead: Big week for earnings, ev...   \n",
       "4  IQ Capital CEO Keith Bliss says tech and healt...   \n",
       "5  Wall Street delivered the 'kind of pullback I'...   \n",
       "\n",
       "                             Time  \\\n",
       "0   7:51  PM ET Fri, 17 July 2020   \n",
       "1   7:33  PM ET Fri, 17 July 2020   \n",
       "3   7:25  PM ET Fri, 17 July 2020   \n",
       "4   4:24  PM ET Fri, 17 July 2020   \n",
       "5   7:36  PM ET Thu, 16 July 2020   \n",
       "\n",
       "                                         Description        Date  \n",
       "0  \"Mad Money\" host Jim Cramer recommended buying...  2020-07-17  \n",
       "1  \"Mad Money\" host Jim Cramer rings the lightnin...  2020-07-17  \n",
       "3  \"We'll pay more for the earnings of the non-Co...  2020-07-17  \n",
       "4  Keith Bliss, IQ Capital CEO, joins \"Closing Be...  2020-07-17  \n",
       "5  \"Look for the stocks of high-quality companies...  2020-07-16  "
      ]
     },
     "execution_count": 3,
     "metadata": {},
     "output_type": "execute_result"
    }
   ],
   "source": [
    "# Define a function to clean and convert the timestamp\n",
    "def parse_cnbc_datetime(raw_string):\n",
    "    try:\n",
    "        # Remove \"ET\" and extra whitespace\n",
    "        raw_string = raw_string.replace(\"ET\", \"\").strip()\n",
    "        # Convert to datetime object\n",
    "        dt = datetime.strptime(raw_string, \"%I:%M %p %a, %d %B %Y\")\n",
    "        return dt.date()\n",
    "    except Exception as e:\n",
    "        return None\n",
    "\n",
    "# Apply it\n",
    "headline_df['Date'] = headline_df['Time'].apply(parse_cnbc_datetime)\n",
    "\n",
    "# Drop rows with bad or missing dates\n",
    "headline_df.dropna(subset=['Date'], inplace=True)\n",
    "\n",
    "headline_df.head()"
   ]
  },
  {
   "cell_type": "code",
   "execution_count": 4,
   "metadata": {},
   "outputs": [
    {
     "data": {
      "text/html": [
       "<div>\n",
       "<style scoped>\n",
       "    .dataframe tbody tr th:only-of-type {\n",
       "        vertical-align: middle;\n",
       "    }\n",
       "\n",
       "    .dataframe tbody tr th {\n",
       "        vertical-align: top;\n",
       "    }\n",
       "\n",
       "    .dataframe thead th {\n",
       "        text-align: right;\n",
       "    }\n",
       "</style>\n",
       "<table border=\"1\" class=\"dataframe\">\n",
       "  <thead>\n",
       "    <tr style=\"text-align: right;\">\n",
       "      <th></th>\n",
       "      <th>date</th>\n",
       "      <th>headline</th>\n",
       "    </tr>\n",
       "  </thead>\n",
       "  <tbody>\n",
       "    <tr>\n",
       "      <th>0</th>\n",
       "      <td>2020-07-17</td>\n",
       "      <td>Jim Cramer: A better way to invest in the Covi...</td>\n",
       "    </tr>\n",
       "    <tr>\n",
       "      <th>1</th>\n",
       "      <td>2020-07-17</td>\n",
       "      <td>Cramer's lightning round: I would own Teradyne</td>\n",
       "    </tr>\n",
       "    <tr>\n",
       "      <th>2</th>\n",
       "      <td>2020-07-17</td>\n",
       "      <td>Cramer's week ahead: Big week for earnings, ev...</td>\n",
       "    </tr>\n",
       "    <tr>\n",
       "      <th>3</th>\n",
       "      <td>2020-07-17</td>\n",
       "      <td>IQ Capital CEO Keith Bliss says tech and healt...</td>\n",
       "    </tr>\n",
       "    <tr>\n",
       "      <th>4</th>\n",
       "      <td>2020-07-16</td>\n",
       "      <td>Wall Street delivered the 'kind of pullback I'...</td>\n",
       "    </tr>\n",
       "  </tbody>\n",
       "</table>\n",
       "</div>"
      ],
      "text/plain": [
       "         date                                           headline\n",
       "0  2020-07-17  Jim Cramer: A better way to invest in the Covi...\n",
       "1  2020-07-17     Cramer's lightning round: I would own Teradyne\n",
       "2  2020-07-17  Cramer's week ahead: Big week for earnings, ev...\n",
       "3  2020-07-17  IQ Capital CEO Keith Bliss says tech and healt...\n",
       "4  2020-07-16  Wall Street delivered the 'kind of pullback I'..."
      ]
     },
     "execution_count": 4,
     "metadata": {},
     "output_type": "execute_result"
    }
   ],
   "source": [
    "# Keep only useful columns\n",
    "headline_df = headline_df[['Date', 'Headlines']]  # You can keep 'description' if you want later\n",
    "\n",
    "# Rename for consistency\n",
    "headline_df.columns = ['date', 'headline']\n",
    "\n",
    "# Drop missing or duplicate headlines\n",
    "headline_df.dropna(subset=['headline'], inplace=True)\n",
    "headline_df.drop_duplicates(inplace=True)\n",
    "\n",
    "# Reset index\n",
    "headline_df.reset_index(drop=True, inplace=True)\n",
    "\n",
    "headline_df.head()"
   ]
  },
  {
   "cell_type": "markdown",
   "metadata": {},
   "source": [
    "### A-2: Basic Statistics of the Dataset"
   ]
  },
  {
   "cell_type": "code",
   "execution_count": 5,
   "metadata": {},
   "outputs": [
    {
     "name": "stdout",
     "output_type": "stream",
     "text": [
      "Date Range:\n",
      "From: 2018-03-01  To: 2020-07-17\n",
      "Total unique days: 290\n"
     ]
    }
   ],
   "source": [
    "stats_df = headline_df.copy()\n",
    "print(\"Date Range:\")\n",
    "print(f\"From: {stats_df['date'].min()}  To: {stats_df['date'].max()}\")\n",
    "print(f\"Total unique days: {stats_df['date'].nunique()}\")"
   ]
  },
  {
   "cell_type": "code",
   "execution_count": 6,
   "metadata": {},
   "outputs": [
    {
     "name": "stdout",
     "output_type": "stream",
     "text": [
      "\n",
      "Headlines per Day:\n",
      "Average: 4.40\n",
      "Min: 1  Max: 11\n"
     ]
    }
   ],
   "source": [
    "headlines_per_day = stats_df.groupby('date').size()\n",
    "print(\"\\nHeadlines per Day:\")\n",
    "print(f\"Average: {headlines_per_day.mean():.2f}\")\n",
    "print(f\"Min: {headlines_per_day.min()}  Max: {headlines_per_day.max()}\")"
   ]
  },
  {
   "cell_type": "code",
   "execution_count": 7,
   "metadata": {},
   "outputs": [
    {
     "name": "stdout",
     "output_type": "stream",
     "text": [
      "\n",
      "Headline Length (Words):\n",
      "count    1276.0\n",
      "mean       12.2\n",
      "std         2.5\n",
      "min         2.0\n",
      "25%        11.0\n",
      "50%        12.0\n",
      "75%        14.0\n",
      "max        21.0\n",
      "Name: headline_word_count, dtype: float64\n",
      "\n",
      "Headline Length (Characters):\n",
      "count    1276.0\n",
      "mean       74.0\n",
      "std        13.7\n",
      "min        14.0\n",
      "25%        65.0\n",
      "50%        74.0\n",
      "75%        84.0\n",
      "max       105.0\n",
      "Name: headline_char_count, dtype: float64\n"
     ]
    }
   ],
   "source": [
    "# Count words and characters\n",
    "stats_df['headline_word_count'] = stats_df['headline'].apply(lambda x: len(str(x).split()))\n",
    "stats_df['headline_char_count'] = stats_df['headline'].apply(lambda x: len(str(x)))\n",
    "\n",
    "print(\"\\nHeadline Length (Words):\")\n",
    "print(stats_df['headline_word_count'].describe().round(1))\n",
    "\n",
    "print(\"\\nHeadline Length (Characters):\")\n",
    "print(stats_df['headline_char_count'].describe().round(1))"
   ]
  },
  {
   "cell_type": "markdown",
   "metadata": {},
   "source": [
    "### A-3: Save the Cleaned Headline Dataset"
   ]
  },
  {
   "cell_type": "code",
   "execution_count": 8,
   "metadata": {},
   "outputs": [],
   "source": [
    "headline_df.to_csv(\"../data/cleaned_cnbc_headlines.csv\", index=False)"
   ]
  },
  {
   "cell_type": "markdown",
   "metadata": {},
   "source": [
    "## B. Market Price Dataset"
   ]
  },
  {
   "cell_type": "markdown",
   "metadata": {},
   "source": [
    "### B-1: Extract SPY Closing Price from Yahoo!"
   ]
  },
  {
   "cell_type": "code",
   "execution_count": 13,
   "metadata": {},
   "outputs": [
    {
     "name": "stderr",
     "output_type": "stream",
     "text": [
      "[*********************100%***********************]  1 of 1 completed"
     ]
    },
    {
     "name": "stdout",
     "output_type": "stream",
     "text": [
      "    spy_close        date\n",
      "0  238.321411  2018-03-01\n",
      "1  239.550018  2018-03-02\n",
      "2  242.318726  2018-03-05\n",
      "3  242.932983  2018-03-06\n",
      "4  242.843948  2018-03-07\n"
     ]
    },
    {
     "name": "stderr",
     "output_type": "stream",
     "text": [
      "\n",
      "/var/folders/tq/2b46y6z13jq7wkv0qgskc1900000gn/T/ipykernel_60672/412361727.py:12: PerformanceWarning: dropping on a non-lexsorted multi-index without a level parameter may impact performance.\n",
      "  spy_df.drop('Date', axis=1, inplace=True)\n"
     ]
    }
   ],
   "source": [
    "start_date = headline_df['date'].min()\n",
    "end_date = headline_df['date'].max()\n",
    "\n",
    "# Match the date range of your headlines\n",
    "spy_df = yf.download(\"SPY\", start=start_date, end=end_date, interval=\"1d\")\n",
    "\n",
    "# Keep only the 'Close' price\n",
    "spy_df = spy_df[['Close']].reset_index()\n",
    "\n",
    "# Convert date to match your sentiment dataset format\n",
    "spy_df['date'] = spy_df['Date'].dt.date\n",
    "spy_df.drop('Date', axis=1, inplace=True)\n",
    "\n",
    "# Rename columns for consistency\n",
    "spy_df.columns = ['spy_close', 'date']\n",
    "\n",
    "# Check result\n",
    "print(spy_df.head())"
   ]
  },
  {
   "cell_type": "markdown",
   "metadata": {},
   "source": [
    "### B-2: Calculate Market Movement Label"
   ]
  },
  {
   "cell_type": "code",
   "execution_count": 14,
   "metadata": {},
   "outputs": [
    {
     "data": {
      "text/html": [
       "<div>\n",
       "<style scoped>\n",
       "    .dataframe tbody tr th:only-of-type {\n",
       "        vertical-align: middle;\n",
       "    }\n",
       "\n",
       "    .dataframe tbody tr th {\n",
       "        vertical-align: top;\n",
       "    }\n",
       "\n",
       "    .dataframe thead th {\n",
       "        text-align: right;\n",
       "    }\n",
       "</style>\n",
       "<table border=\"1\" class=\"dataframe\">\n",
       "  <thead>\n",
       "    <tr style=\"text-align: right;\">\n",
       "      <th></th>\n",
       "      <th>date</th>\n",
       "      <th>spy_close</th>\n",
       "      <th>spy_return</th>\n",
       "      <th>spy_direction</th>\n",
       "    </tr>\n",
       "  </thead>\n",
       "  <tbody>\n",
       "    <tr>\n",
       "      <th>1</th>\n",
       "      <td>2018-03-02</td>\n",
       "      <td>239.550018</td>\n",
       "      <td>0.005155</td>\n",
       "      <td>1</td>\n",
       "    </tr>\n",
       "    <tr>\n",
       "      <th>2</th>\n",
       "      <td>2018-03-05</td>\n",
       "      <td>242.318726</td>\n",
       "      <td>0.011558</td>\n",
       "      <td>1</td>\n",
       "    </tr>\n",
       "    <tr>\n",
       "      <th>3</th>\n",
       "      <td>2018-03-06</td>\n",
       "      <td>242.932983</td>\n",
       "      <td>0.002535</td>\n",
       "      <td>0</td>\n",
       "    </tr>\n",
       "    <tr>\n",
       "      <th>4</th>\n",
       "      <td>2018-03-07</td>\n",
       "      <td>242.843948</td>\n",
       "      <td>-0.000367</td>\n",
       "      <td>1</td>\n",
       "    </tr>\n",
       "    <tr>\n",
       "      <th>5</th>\n",
       "      <td>2018-03-08</td>\n",
       "      <td>244.019043</td>\n",
       "      <td>0.004839</td>\n",
       "      <td>1</td>\n",
       "    </tr>\n",
       "  </tbody>\n",
       "</table>\n",
       "</div>"
      ],
      "text/plain": [
       "         date   spy_close  spy_return  spy_direction\n",
       "1  2018-03-02  239.550018    0.005155              1\n",
       "2  2018-03-05  242.318726    0.011558              1\n",
       "3  2018-03-06  242.932983    0.002535              0\n",
       "4  2018-03-07  242.843948   -0.000367              1\n",
       "5  2018-03-08  244.019043    0.004839              1"
      ]
     },
     "execution_count": 14,
     "metadata": {},
     "output_type": "execute_result"
    }
   ],
   "source": [
    "# Calculate daily percentage return\n",
    "spy_df['spy_return'] = spy_df['spy_close'].pct_change()\n",
    "\n",
    "# Create target: 1 if market went up next day, 0 if down or flat\n",
    "spy_df['spy_direction'] = (spy_df['spy_close'].shift(-1) > spy_df['spy_close']).astype(int)\n",
    "\n",
    "# Drop the last row with NaN values\n",
    "spy_df.dropna(inplace=True)\n",
    "\n",
    "# reorder columns\n",
    "spy_df = spy_df[['date', 'spy_close', 'spy_return', 'spy_direction']]\n",
    "\n",
    "spy_df.head()"
   ]
  },
  {
   "cell_type": "markdown",
   "metadata": {},
   "source": [
    "### B-3: Save the Dataset"
   ]
  },
  {
   "cell_type": "code",
   "execution_count": 15,
   "metadata": {},
   "outputs": [],
   "source": [
    "spy_df.to_csv(\"../data/cleaned_spy_price.csv\", index=False)"
   ]
  },
  {
   "cell_type": "markdown",
   "metadata": {},
   "source": [
    "## C. Extract Other Market Related Features\n"
   ]
  },
  {
   "cell_type": "code",
   "execution_count": null,
   "metadata": {},
   "outputs": [],
   "source": [
    "# do this part later"
   ]
  }
 ],
 "metadata": {
  "kernelspec": {
   "display_name": "finance_env",
   "language": "python",
   "name": "python3"
  },
  "language_info": {
   "codemirror_mode": {
    "name": "ipython",
    "version": 3
   },
   "file_extension": ".py",
   "mimetype": "text/x-python",
   "name": "python",
   "nbconvert_exporter": "python",
   "pygments_lexer": "ipython3",
   "version": "3.12.9"
  }
 },
 "nbformat": 4,
 "nbformat_minor": 2
}
